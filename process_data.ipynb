{
 "cells": [
  {
   "cell_type": "code",
   "execution_count": 1,
   "metadata": {},
   "outputs": [],
   "source": [
    "import json\n",
    "import pickle\n",
    "from pathlib import Path\n",
    "\n",
    "import yaml\n",
    "\n",
    "import src.process as p\n",
    "from src.models import Anime, RatingTag, Review\n",
    "\n",
    "DATA_PATH = Path() / \"data\""
   ]
  },
  {
   "cell_type": "markdown",
   "metadata": {},
   "source": [
    "Set how many entries to analyse and import them.  \n",
    "The dataset is the top 1000 ranked anime on MAL as of 27/08/2023."
   ]
  },
  {
   "cell_type": "code",
   "execution_count": 2,
   "metadata": {},
   "outputs": [
    {
     "data": {
      "text/plain": [
       "1000"
      ]
     },
     "execution_count": 2,
     "metadata": {},
     "output_type": "execute_result"
    }
   ],
   "source": [
    "threshold = 1000\n",
    "assert 1 <= threshold <= 1000\n",
    "with open(DATA_PATH / \"data.pickle\", \"rb\") as f:\n",
    "    DATA: list[Anime] = pickle.load(f)[:threshold]\n",
    "len(DATA)"
   ]
  },
  {
   "cell_type": "markdown",
   "metadata": {},
   "source": [
    "List the ratio of \"Recommended\" reviews against the total.  \n",
    "(together with the rank, id, title)"
   ]
  },
  {
   "cell_type": "code",
   "execution_count": 3,
   "metadata": {},
   "outputs": [],
   "source": [
    "pct = p.get_pct_rating(DATA, RatingTag.RECOMMENDED)"
   ]
  },
  {
   "cell_type": "markdown",
   "metadata": {},
   "source": [
    "Store the list in full (as yaml file) or as list of ratios alone (as json file)."
   ]
  },
  {
   "cell_type": "code",
   "execution_count": 4,
   "metadata": {},
   "outputs": [],
   "source": [
    "with open(DATA_PATH / f\"rating_pct_{threshold}.json\", \"w\", encoding=\"utf-8\") as f:\n",
    "    json.dump([pct[3] for pct in pct], f)"
   ]
  },
  {
   "cell_type": "code",
   "execution_count": 5,
   "metadata": {},
   "outputs": [],
   "source": [
    "with open(DATA_PATH / f\"rating_pct_{threshold}.yaml\", \"w\", encoding=\"utf-8\") as f:\n",
    "    yaml.dump(pct, f)"
   ]
  },
  {
   "cell_type": "markdown",
   "metadata": {},
   "source": [
    "Get the top n reviews for each anime in the list, and count the distribution of rating tags.\n",
    "\n",
    "Keep in mind we only collected the top 3 reviews for each rating tag: Recommended, Mixed Feelings, Not Recommended.\n",
    "\n",
    "In this context, reviews are ranked based on the number of reactions they received.\n",
    "\n",
    "Elaborate this data, showing:\n",
    "* Number of anime whose top 3 reviews include at least one that is not \"Recommended\".  \n",
    "* Number of anime whose top review is not \"Recommended\".  \n",
    "* Number of anime whose top 3 reviews do not contain a \"Recommended\" review at all."
   ]
  },
  {
   "cell_type": "code",
   "execution_count": 6,
   "metadata": {},
   "outputs": [
    {
     "name": "stdout",
     "output_type": "stream",
     "text": [
      "450\n",
      "173\n",
      "26\n"
     ]
    }
   ],
   "source": [
    "num_top = 3\n",
    "count = p.top_n_ratings(DATA, num_top)\n",
    "\n",
    "print(p.num_anime_with_non_positive(count))\n",
    "print(p.num_top_not_positive(count))\n",
    "print(p.num_no_positive(count))"
   ]
  },
  {
   "cell_type": "markdown",
   "metadata": {},
   "source": [
    "Save to file the top reviews rating tag distribution data."
   ]
  },
  {
   "cell_type": "code",
   "execution_count": 7,
   "metadata": {},
   "outputs": [],
   "source": [
    "with open(DATA_PATH / f\"top_{num_top}_reviews_frequency_{threshold}.txt\", \"w\", encoding=\"utf-8\") as f:\n",
    "    f.write('\\n'.join(f\"{x[1]: <5} - {x[0]}\" for x in count.most_common()))"
   ]
  },
  {
   "cell_type": "markdown",
   "metadata": {},
   "source": [
    "Collect information about negative reviews that are one of the top 3 reviews of an anime:\n",
    "* Anime rank.  \n",
    "* Anime id.  \n",
    "* Ranking of the review.  \n",
    "* Number of reactions.  \n",
    "* Percentage of combined \"funny\" and \"confusing\" reactions to the review.\n",
    "\n",
    "(\"Funny\" and \"confusing\" are most commonly used to show disagreement or disapproval with a review, as they are the only way to do so beside not reacting to the review at all)"
   ]
  },
  {
   "cell_type": "code",
   "execution_count": 8,
   "metadata": {},
   "outputs": [
    {
     "name": "stdout",
     "output_type": "stream",
     "text": [
      "263\n"
     ]
    }
   ],
   "source": [
    "negative = p.negative_review_data(DATA)\n",
    "print(len(negative))"
   ]
  },
  {
   "cell_type": "markdown",
   "metadata": {},
   "source": [
    "Compute how many negative reviews have a percentage of combined \"funny\" and \"confusing\" reviews above a certain threshold, and store it on disk."
   ]
  },
  {
   "cell_type": "code",
   "execution_count": 9,
   "metadata": {},
   "outputs": [],
   "source": [
    "mock_ratios = range(5, 101, 5) # threshold % of funny/confusing reactions\n",
    "with open(DATA_PATH / f\"ratio_negative_mock_{threshold}.txt\", \"w\", encoding=\"utf-8\") as f:\n",
    "    f.write(f\"{len(negative)}\\n\")\n",
    "    for mock_ratio in mock_ratios:\n",
    "        mocked = sum(1 for r in negative if r[4] >= mock_ratio)\n",
    "        f.write(f\"[{mock_ratio}] - {mocked} - {mocked / len(negative) * 100:.2f}%\\n\")\n"
   ]
  },
  {
   "cell_type": "markdown",
   "metadata": {},
   "source": [
    "Bonus:  \n",
    "* The anime with no review at all (a total of 9 in the top 1000).  \n",
    "* The anime whose top reviews are all \"Not Recommended\" (a total of 2 in the top 1000).  "
   ]
  },
  {
   "cell_type": "code",
   "execution_count": 10,
   "metadata": {},
   "outputs": [
    {
     "name": "stdout",
     "output_type": "stream",
     "text": [
      "(136, 54595, 'Kage no Jitsuryokusha ni Naritakute! 2nd Season')\n",
      "(749, 52684, 'Shen Yin Wangzuo 2nd Season')\n",
      "(790, 41462, 'BanG Dream! Film Live 2nd Stage')\n",
      "(835, 42166, 'Violet Evergarden CM')\n",
      "(844, 37029, 'Hoozuki no Reitetsu 2nd Season: Sono Ni')\n",
      "(886, 29830, 'Tamayura: Sotsugyou Shashin Part 3 - Akogare')\n",
      "(889, 6582, 'Tentai Senshi Sunred 2nd Season')\n",
      "(903, 40372, 'Haikyuu!! (OVA)')\n",
      "(929, 36796, 'Owarimonogatari 2nd Season Recaps')\n"
     ]
    }
   ],
   "source": [
    "no_reviews = p.no_review(DATA)\n",
    "for entry in no_reviews: print(entry)"
   ]
  },
  {
   "cell_type": "code",
   "execution_count": 11,
   "metadata": {},
   "outputs": [
    {
     "name": "stdout",
     "output_type": "stream",
     "text": [
      "(331, 48736, 'Sono Bisque Doll wa Koi wo Suru')\n",
      "(729, 38408, 'Boku no Hero Academia 4th Season')\n"
     ]
    }
   ],
   "source": [
    "all_negative = p.all_top_negative(DATA)\n",
    "for entry in all_negative: print(entry)"
   ]
  }
 ],
 "metadata": {
  "kernelspec": {
   "display_name": ".venv",
   "language": "python",
   "name": "python3"
  },
  "language_info": {
   "codemirror_mode": {
    "name": "ipython",
    "version": 3
   },
   "file_extension": ".py",
   "mimetype": "text/x-python",
   "name": "python",
   "nbconvert_exporter": "python",
   "pygments_lexer": "ipython3",
   "version": "3.11.1"
  },
  "orig_nbformat": 4
 },
 "nbformat": 4,
 "nbformat_minor": 2
}
